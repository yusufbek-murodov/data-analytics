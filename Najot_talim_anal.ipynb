{
 "cells": [
  {
   "cell_type": "code",
   "execution_count": null,
   "id": "7be2400f-b874-4400-b5e5-87f3ca2c8e6a",
   "metadata": {},
   "outputs": [],
   "source": [
    "import pandas as pd\n",
    "from textblob import TextBlob\n",
    "from deep_translator import GoogleTranslator\n",
    "import matplotlib.pyplot as plt\n",
    "df = pd.read_csv('Najot_tal_analis.csv')"
   ]
  },
  {
   "cell_type": "code",
   "execution_count": null,
   "id": "2b5b091c-d37b-43b8-9ee2-10ecc69b3f87",
   "metadata": {},
   "outputs": [],
   "source": [
    "df.info()"
   ]
  },
  {
   "cell_type": "code",
   "execution_count": null,
   "id": "c8cf8b57-05f7-4775-b041-aa5eaf6f8f25",
   "metadata": {},
   "outputs": [],
   "source": [
    "def translate_to_english(text):\n",
    "    try:\n",
    "        translation = GoogleTranslator(source='auto', target='en').translate(text)\n",
    "        return translation if translation else \"Translation Error\"\n",
    "    except Exception as e:\n",
    "        return \"Translation Error\"\n",
    "\n",
    "df['Translated'] = df['text'].apply(translate_to_english)\n"
   ]
  },
  {
   "cell_type": "code",
   "execution_count": 4,
   "id": "1df4eeb9-1b5c-480d-be46-8e8b2aacb051",
   "metadata": {},
   "outputs": [],
   "source": [
    "def get_sentiment(text):\n",
    "    if text == \"Translation Error\":\n",
    "        return \"Нейтральный\"\n",
    "    blob = TextBlob(text)\n",
    "    if blob.sentiment.polarity > 0:\n",
    "        return 'Позитивный'\n",
    "    elif blob.sentiment.polarity < 0:\n",
    "        return 'Негативный'\n",
    "    else:\n",
    "        return 'Нейтральный'\n",
    "\n",
    "df['Sentiment'] = df['Translated'].apply(get_sentiment)\n"
   ]
  },
  {
   "cell_type": "code",
   "execution_count": 5,
   "id": "58ca3d79-8d49-453a-a9c8-b02f2ba7a62a",
   "metadata": {},
   "outputs": [
    {
     "data": {
      "text/html": [
       "<div>\n",
       "<style scoped>\n",
       "    .dataframe tbody tr th:only-of-type {\n",
       "        vertical-align: middle;\n",
       "    }\n",
       "\n",
       "    .dataframe tbody tr th {\n",
       "        vertical-align: top;\n",
       "    }\n",
       "\n",
       "    .dataframe thead th {\n",
       "        text-align: right;\n",
       "    }\n",
       "</style>\n",
       "<table border=\"1\" class=\"dataframe\">\n",
       "  <thead>\n",
       "    <tr style=\"text-align: right;\">\n",
       "      <th></th>\n",
       "      <th>id</th>\n",
       "      <th>username</th>\n",
       "      <th>owner_id</th>\n",
       "      <th>profile_pic_url</th>\n",
       "      <th>text</th>\n",
       "      <th>created_at</th>\n",
       "      <th>Translated</th>\n",
       "      <th>Sentiment</th>\n",
       "    </tr>\n",
       "  </thead>\n",
       "  <tbody>\n",
       "    <tr>\n",
       "      <th>0</th>\n",
       "      <td>17853026919245029</td>\n",
       "      <td>najottalim</td>\n",
       "      <td>8735940933</td>\n",
       "      <td>https://instagram.ftas1-1.fna.fbcdn.net/v/t51....</td>\n",
       "      <td>Sizga shaxsiydan xabar qoldirdik 🚀</td>\n",
       "      <td>1727019953</td>\n",
       "      <td>We left you a private message 🚀</td>\n",
       "      <td>Нейтральный</td>\n",
       "    </tr>\n",
       "    <tr>\n",
       "      <th>1</th>\n",
       "      <td>17915866499994863</td>\n",
       "      <td>_bibisora_u</td>\n",
       "      <td>69202499922</td>\n",
       "      <td>https://instagram.ftas2-2.fna.fbcdn.net/v/t51....</td>\n",
       "      <td>+</td>\n",
       "      <td>1727171981</td>\n",
       "      <td>Translation Error</td>\n",
       "      <td>Нейтральный</td>\n",
       "    </tr>\n",
       "    <tr>\n",
       "      <th>2</th>\n",
       "      <td>18066441280626930</td>\n",
       "      <td>najottalim</td>\n",
       "      <td>8735940933</td>\n",
       "      <td>https://instagram.ftas1-1.fna.fbcdn.net/v/t51....</td>\n",
       "      <td>Sizga shaxsiydan xabar yubordik 😊</td>\n",
       "      <td>1727171991</td>\n",
       "      <td>We sent you a private message</td>\n",
       "      <td>Нейтральный</td>\n",
       "    </tr>\n",
       "    <tr>\n",
       "      <th>3</th>\n",
       "      <td>17948564834743703</td>\n",
       "      <td>bakhtiyor_779</td>\n",
       "      <td>61955297428</td>\n",
       "      <td>https://instagram.ftas1-1.fna.fbcdn.net/v/t51....</td>\n",
       "      <td>+</td>\n",
       "      <td>1727191712</td>\n",
       "      <td>Translation Error</td>\n",
       "      <td>Нейтральный</td>\n",
       "    </tr>\n",
       "    <tr>\n",
       "      <th>4</th>\n",
       "      <td>18044725117989805</td>\n",
       "      <td>najottalim</td>\n",
       "      <td>8735940933</td>\n",
       "      <td>https://instagram.ftas1-1.fna.fbcdn.net/v/t51....</td>\n",
       "      <td>Sizga shaxsiydan javob berdik ✅</td>\n",
       "      <td>1727191723</td>\n",
       "      <td>We have answered you personally</td>\n",
       "      <td>Нейтральный</td>\n",
       "    </tr>\n",
       "  </tbody>\n",
       "</table>\n",
       "</div>"
      ],
      "text/plain": [
       "                  id       username     owner_id  \\\n",
       "0  17853026919245029     najottalim   8735940933   \n",
       "1  17915866499994863    _bibisora_u  69202499922   \n",
       "2  18066441280626930     najottalim   8735940933   \n",
       "3  17948564834743703  bakhtiyor_779  61955297428   \n",
       "4  18044725117989805     najottalim   8735940933   \n",
       "\n",
       "                                     profile_pic_url  \\\n",
       "0  https://instagram.ftas1-1.fna.fbcdn.net/v/t51....   \n",
       "1  https://instagram.ftas2-2.fna.fbcdn.net/v/t51....   \n",
       "2  https://instagram.ftas1-1.fna.fbcdn.net/v/t51....   \n",
       "3  https://instagram.ftas1-1.fna.fbcdn.net/v/t51....   \n",
       "4  https://instagram.ftas1-1.fna.fbcdn.net/v/t51....   \n",
       "\n",
       "                                 text  created_at  \\\n",
       "0  Sizga shaxsiydan xabar qoldirdik 🚀  1727019953   \n",
       "1                                   +  1727171981   \n",
       "2   Sizga shaxsiydan xabar yubordik 😊  1727171991   \n",
       "3                                   +  1727191712   \n",
       "4     Sizga shaxsiydan javob berdik ✅  1727191723   \n",
       "\n",
       "                        Translated    Sentiment  \n",
       "0  We left you a private message 🚀  Нейтральный  \n",
       "1                Translation Error  Нейтральный  \n",
       "2    We sent you a private message  Нейтральный  \n",
       "3                Translation Error  Нейтральный  \n",
       "4  We have answered you personally  Нейтральный  "
      ]
     },
     "execution_count": 5,
     "metadata": {},
     "output_type": "execute_result"
    }
   ],
   "source": [
    "df.head()"
   ]
  },
  {
   "cell_type": "code",
   "execution_count": 12,
   "id": "780f71ba-2b18-4df9-9a34-dcf6eb8ab0e6",
   "metadata": {},
   "outputs": [
    {
     "data": {
      "text/plain": [
       "Sentiment\n",
       "Нейтральный    234\n",
       "Позитивный       2\n",
       "Name: count, dtype: int64"
      ]
     },
     "execution_count": 12,
     "metadata": {},
     "output_type": "execute_result"
    }
   ],
   "source": [
    "df['Sentiment'].value_counts()\n"
   ]
  },
  {
   "cell_type": "code",
   "execution_count": 28,
   "id": "30bc98bd-0669-4013-a86a-decd4cd04c1a",
   "metadata": {},
   "outputs": [
    {
     "data": {
      "text/plain": [
       "<Axes: xlabel='Sentiment'>"
      ]
     },
     "execution_count": 28,
     "metadata": {},
     "output_type": "execute_result"
    },
    {
     "data": {
      "image/png": "[encoded data removed]",
      "text/plain": [
       "<Figure size 640x480 with 1 Axes>"
      ]
     },
     "metadata": {},
     "output_type": "display_data"
    }
   ],
   "source": [
    "sentiment_counts = df['Sentiment'].value_counts()\n",
    "sentiment_counts.plot(kind='bar')"
   ]
  },
  {
   "cell_type": "code",
   "execution_count": 20,
   "id": "212aa4dc-91d4-46f1-83af-eaa6f2824039",
   "metadata": {},
   "outputs": [],
   "source": [
    "# labels = sentiment_counts.index\n",
    "# sizes = sentiment_counts.values\n",
    "# colors = ['#ff9999','#66b3ff','#99ff99']\n",
    "# explode = (0.1, 0, 0)\n",
    "# plt.pie(sizes, explode=explode, labels=labels, colors=colors, autopct='%1.1f%%',\n",
    "#         shadow=True, startangle=140)\n",
    "# plt.axis('equal')\n",
    "# plt.title('Процентное соотношение сентиментов')\n",
    "# plt.show()\n",
    "# import matplotlib.pyplot as plt\n",
    "\n",
    "\n",
    "# abels = sentiment_counts.index\n",
    "# sizes = sentiment_counts.values\n",
    "# colors = ['#ff9999','#66b3ff','#99ff99']\n",
    "# explode = (0.1, 0, 0)  \n",
    "# plt.pie(sizes, explode=explode, labels=labels, colors=colors, autopct='%1.1f%%',\n",
    "#             hadow=True, startangle=140)\n",
    "# plt.axis('equal')\n",
    "# plt.title('Процентное соотношение сентиментов')\n",
    "# plt.show()"
   ]
  },
  {
   "cell_type": "code",
   "execution_count": null,
   "id": "c5cd3518-f7b3-4af9-8bc9-6a0d8740ff29",
   "metadata": {},
   "outputs": [],
   "source": []
  }
 ],
 "metadata": {
  "kernelspec": {
   "display_name": "Python 3 (ipykernel)",
   "language": "python",
   "name": "python3"
  },
  "language_info": {
   "codemirror_mode": {
    "name": "ipython",
    "version": 3
   },
   "file_extension": ".py",
   "mimetype": "text/x-python",
   "name": "python",
   "nbconvert_exporter": "python",
   "pygments_lexer": "ipython3",
   "version": "3.12.4"
  }
 },
 "nbformat": 4,
 "nbformat_minor": 5
}
